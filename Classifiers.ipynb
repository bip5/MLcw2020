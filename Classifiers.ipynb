{
 "cells": [
  {
   "cell_type": "code",
   "execution_count": 14,
   "metadata": {},
   "outputs": [],
   "source": [
    "import numpy as np\n",
    "from sklearn.datasets import fetch_openml\n",
    "import matplotlib.pyplot as plt\n",
    "from sklearn.neural_network import MLPClassifier\n",
    "from sklearn.metrics import plot_confusion_matrix\n",
    "from sklearn.svm import SVC\n",
    "import time"
   ]
  },
  {
   "cell_type": "code",
   "execution_count": 2,
   "metadata": {},
   "outputs": [],
   "source": [
    "# importing the data\n",
    "data=fetch_openml('mnist_784',return_X_y=True)"
   ]
  },
  {
   "cell_type": "code",
   "execution_count": 3,
   "metadata": {},
   "outputs": [
    {
     "name": "stdout",
     "output_type": "stream",
     "text": [
      "[['0' 2819]\n",
      " ['1' 3370]\n",
      " ['2' 2996]\n",
      " ['3' 2985]\n",
      " ['4' 2958]\n",
      " ['5' 2841]\n",
      " ['6' 2994]\n",
      " ['7' 3149]\n",
      " ['8' 2883]\n",
      " ['9' 3005]] [['0' 1451]\n",
      " ['1' 1692]\n",
      " ['2' 1471]\n",
      " ['3' 1515]\n",
      " ['4' 1475]\n",
      " ['5' 1429]\n",
      " ['6' 1461]\n",
      " ['7' 1563]\n",
      " ['8' 1452]\n",
      " ['9' 1491]]\n"
     ]
    }
   ],
   "source": [
    "# Splitting the data\n",
    "trainX=data[0][:60000,:]\n",
    "trainY=data[1][:60000]\n",
    "testX=data[0][60000:,:]\n",
    "testY=data[1][60000:]\n",
    "\n"
   ]
  },
  {
   "cell_type": "code",
   "execution_count": 4,
   "metadata": {},
   "outputs": [],
   "source": [
    "# Subsample\n",
    "train_labels=np.array([int(i) for i in trainY])\n"
   ]
  },
  {
   "cell_type": "code",
   "execution_count": 5,
   "metadata": {},
   "outputs": [],
   "source": [
    "# function to separate the dataset by digits\n",
    "def separate_classes_list(X,y):\n",
    "    X_classes_list=[]\n",
    "    y_int=np.zeros(len(y))\n",
    "    \n",
    "    train_labels=np.array([int(i) for i in trainY])\n",
    "    \n",
    "    \n",
    "    for i in range(10):\n",
    "        index= np.where(train_labels==i)[0]\n",
    "        \n",
    "        X_classes_list.append(np.array([X[j] for j in index]))\n",
    "        \n",
    "    return X_classes_list"
   ]
  },
  {
   "cell_type": "code",
   "execution_count": 6,
   "metadata": {},
   "outputs": [],
   "source": [
    "trainX_by_class=separate_classes_list(trainX,trainY)"
   ]
  },
  {
   "cell_type": "code",
   "execution_count": 7,
   "metadata": {},
   "outputs": [
    {
     "data": {
      "text/plain": [
       "(6742, 784)"
      ]
     },
     "execution_count": 7,
     "metadata": {},
     "output_type": "execute_result"
    }
   ],
   "source": [
    "trainX_by_class[1].shape"
   ]
  },
  {
   "cell_type": "code",
   "execution_count": 8,
   "metadata": {},
   "outputs": [
    {
     "name": "stdout",
     "output_type": "stream",
     "text": [
      "(60000, 784) (60000,) (10000, 784) (10000,)\n"
     ]
    }
   ],
   "source": [
    "# Check if split correctly\n",
    "print(trainX.shape, trainY.shape, testX.shape, testY.shape)"
   ]
  },
  {
   "cell_type": "code",
   "execution_count": 29,
   "metadata": {},
   "outputs": [
    {
     "data": {
      "text/plain": [
       "255.0"
      ]
     },
     "execution_count": 29,
     "metadata": {},
     "output_type": "execute_result"
    }
   ],
   "source": [
    "# Confirm the type\n",
    "testX.max()"
   ]
  },
  {
   "cell_type": "code",
   "execution_count": 10,
   "metadata": {},
   "outputs": [
    {
     "name": "stdout",
     "output_type": "stream",
     "text": [
      "Min of x_norm_train: 0.0, \n",
      "Max of x_norm_train: 1.0\n",
      "Min of x_norm_train: 0.0, \n",
      "Max of x_norm_train: 1.0\n"
     ]
    }
   ],
   "source": [
    "# Normalise\n",
    "trainX_norm=trainX/255\n",
    "testX_norm=testX/255\n",
    "\n",
    "# Check if normalised correctly\n",
    "print(f'Min of x_norm_train: {trainX_norm.min()}, \\nMax of x_norm_train: {trainX_norm.max()}')\n",
    "print(f'Min of x_norm_train: {testX_norm.min()}, \\nMax of x_norm_train: {testX_norm.max()}')"
   ]
  },
  {
   "cell_type": "code",
   "execution_count": 18,
   "metadata": {},
   "outputs": [
    {
     "name": "stdout",
     "output_type": "stream",
     "text": [
      "[['0' 545]\n",
      " ['1' 660]\n",
      " ['2' 622]\n",
      " ['3' 626]\n",
      " ['4' 566]\n",
      " ['5' 581]\n",
      " ['6' 630]\n",
      " ['7' 644]\n",
      " ['8' 555]\n",
      " ['9' 571]]\n"
     ]
    }
   ],
   "source": [
    "#subsets to use\n",
    "X_sub2=trainX_norm[::2,:]\n",
    "Y_sub2=trainY[::2]\n",
    "\n",
    "# return unique count\n",
    "label_tally2=np.array(np.unique(Y_sub2,return_counts=True)).T\n",
    "\n",
    "X_sub4=trainX_norm[::4,:]\n",
    "Y_sub4=trainY[::4]\n",
    "\n",
    "\n",
    "# return unique count\n",
    "label_tally4=np.array(np.unique(Y_sub4,return_counts=True)).T\n",
    "\n",
    "X_sub10=trainX_norm[::10,:]\n",
    "Y_sub10=trainY[::10]\n",
    "\n",
    "# return unique count\n",
    "label_tally10=np.array(np.unique(Y_sub10,return_counts=True)).T\n",
    "print(label_tally10)"
   ]
  },
  {
   "cell_type": "code",
   "execution_count": 53,
   "metadata": {
    "scrolled": true
   },
   "outputs": [
    {
     "name": "stderr",
     "output_type": "stream",
     "text": [
      "C:\\Users\\b_pau\\anaconda3\\lib\\site-packages\\sklearn\\neural_network\\_multilayer_perceptron.py:582: ConvergenceWarning: Stochastic Optimizer: Maximum iterations (1000) reached and the optimization hasn't converged yet.\n",
      "  warnings.warn(\n"
     ]
    },
    {
     "data": {
      "text/plain": [
       "Text(0, 0.5, 'Loss')"
      ]
     },
     "execution_count": 53,
     "metadata": {},
     "output_type": "execute_result"
    },
    {
     "data": {
      "image/png": "[encoded data removed]",
      "text/plain": [
       "<Figure size 432x288 with 1 Axes>"
      ]
     },
     "metadata": {
      "needs_background": "light"
     },
     "output_type": "display_data"
    }
   ],
   "source": [
    "start_time=time.time()\n",
    "# Run classifier\n",
    "nn_clf = MLPClassifier(hidden_layer_sizes=(10),\n",
    "                    activation='relu',\n",
    "                    solver='sgd',\n",
    "                    alpha=0.0001,\n",
    "                    learning_rate_init=1e-4,\n",
    "                    max_iter=1000,\n",
    "                    n_iter_no_change=25,\n",
    "                    random_state=1)\n",
    "nn_clf.fit(X_sub10, Y_sub10)\n",
    "\n",
    "training_ann=round(nn_clf.score(X_sub10, Y_sub10),4)\n",
    "test_ann=round(nn_clf.score(testX_norm, testY),4)\n",
    "\n",
    "end_time=time.time()\n",
    "\n",
    "\n",
    "\n",
    "# Plot Loss Curve\n",
    "fig, ax = plt.subplots(figsize=(6,4))\n",
    "ax.plot(nn_clf.loss_curve_)\n",
    "ax.set_xlabel('Number of iterations')\n",
    "ax.set_ylabel('Loss')"
   ]
  },
  {
   "cell_type": "code",
   "execution_count": 54,
   "metadata": {},
   "outputs": [
    {
     "name": "stdout",
     "output_type": "stream",
     "text": [
      "Training accuracy:  0.9024\n",
      "Testing accuracy:  0.8981\n",
      "Time elapsed with ANN: 284.27 s\n"
     ]
    }
   ],
   "source": [
    "# Print training and test accuracy and plot confusion matrix\n",
    "print('Training accuracy: ',training_ann )\n",
    "print('Testing accuracy: ', test_ann)\n",
    "\n",
    "time_elapsed= end_time-start_time\n",
    "\n",
    "print('Time elapsed with ANN: {:.2f} s'.format(time_elapsed))\n",
    "\n"
   ]
  },
  {
   "cell_type": "code",
   "execution_count": 11,
   "metadata": {},
   "outputs": [
    {
     "data": {
      "text/plain": [
       "array(['7', '2', '1', '0', '4', '1', '4', '9', '6', '9', '0', '6'],\n",
       "      dtype='<U1')"
      ]
     },
     "execution_count": 11,
     "metadata": {},
     "output_type": "execute_result"
    }
   ],
   "source": [
    "# Sanity check\n",
    "nn_clf.predict(testX[:12])"
   ]
  },
  {
   "cell_type": "code",
   "execution_count": 12,
   "metadata": {},
   "outputs": [
    {
     "data": {
      "text/plain": [
       "<matplotlib.image.AxesImage at 0x2e93eb59790>"
      ]
     },
     "execution_count": 12,
     "metadata": {},
     "output_type": "execute_result"
    },
    {
     "data": {
      "image/png": "[encoded data removed]",
      "text/plain": [
       "<Figure size 432x288 with 1 Axes>"
      ]
     },
     "metadata": {
      "needs_background": "light"
     },
     "output_type": "display_data"
    }
   ],
   "source": [
    "plt.imshow(testX[7].reshape(28,28))"
   ]
  },
  {
   "cell_type": "code",
   "execution_count": 52,
   "metadata": {
    "scrolled": true
   },
   "outputs": [
    {
     "name": "stdout",
     "output_type": "stream",
     "text": [
      "Training accuracy:  0.9452\n",
      "Testing accuracy:  0.9406\n"
     ]
    },
    {
     "data": {
      "image/png": "[encoded data removed]",
      "text/plain": [
       "<Figure size 432x288 with 2 Axes>"
      ]
     },
     "metadata": {
      "needs_background": "light"
     },
     "output_type": "display_data"
    }
   ],
   "source": [
    "# Print training and test accuracy and plot confusion matrix\n",
    "print('Training accuracy: ',training_ann )\n",
    "print('Testing accuracy: ', test_ann)\n",
    "\n",
    "plot_confusion_matrix(nn_clf, testX, testY)\n",
    "plt.show()"
   ]
  },
  {
   "cell_type": "code",
   "execution_count": 54,
   "metadata": {},
   "outputs": [],
   "source": [
    "# Careful with the SVM as it takes insanely long- MNIST says it's really accurate\n",
    "# RBF kernelis default, runs one to one classification- lets try running a smaller traiining set\n",
    "\n",
    "\n",
    "svm=SVC(C=2)\n",
    "svm.fit(trainX_svm[::4,:],trainY_svm[::4])\n",
    "\n",
    "y_pred=svm.predict(testX)\n",
    "\n"
   ]
  },
  {
   "cell_type": "code",
   "execution_count": 56,
   "metadata": {
    "scrolled": false
   },
   "outputs": [
    {
     "data": {
      "text/plain": [
       "<sklearn.metrics._plot.confusion_matrix.ConfusionMatrixDisplay at 0x2e960ae9cd0>"
      ]
     },
     "execution_count": 56,
     "metadata": {},
     "output_type": "execute_result"
    },
    {
     "data": {
      "image/png": "[encoded data removed]",
      "text/plain": [
       "<Figure size 432x288 with 2 Axes>"
      ]
     },
     "metadata": {
      "needs_background": "light"
     },
     "output_type": "display_data"
    }
   ],
   "source": [
    "plot_confusion_matrix(svm,testX[::2,:],testY[::2])"
   ]
  },
  {
   "cell_type": "code",
   "execution_count": 23,
   "metadata": {},
   "outputs": [
    {
     "name": "stdout",
     "output_type": "stream",
     "text": [
      "SVM classifier training accuracy: 0.9957666666666667, Test accuracy: 0.9775\n"
     ]
    }
   ],
   "source": [
    "print(f'SVM classifier training accuracy: {svm.score(trainX_svm, trainY_svm)}, Test accuracy: {svm.score(testX,testY)}')"
   ]
  },
  {
   "cell_type": "code",
   "execution_count": 59,
   "metadata": {},
   "outputs": [
    {
     "name": "stdout",
     "output_type": "stream",
     "text": [
      "SVM classifier training accuracy: 0.9936, Test accuracy: 0.9596\n"
     ]
    }
   ],
   "source": [
    "print(f'SVM classifier training accuracy: {svm.score(trainX_svm[::4,:], trainY_svm[::4])}, Test accuracy: {svm.score(testX[::2,:],testY[::2])}')"
   ]
  },
  {
   "cell_type": "code",
   "execution_count": 30,
   "metadata": {},
   "outputs": [],
   "source": [
    "# Careful with the SVM as it takes insanely long- MNIST says it's really accurate\n",
    "# RBF kernelis default, runs one to one classification- lets try running a smaller traiining set\n",
    "\n",
    "start_timesvc=time.time()\n",
    "svm2=SVC(C=2)\n",
    "svm2.fit(X_sub10,Y_sub10)\n",
    "\n",
    "training_svc=round(svm2.score(X_sub10, Y_sub10),4)\n",
    "test_svc= round(svm2.score(testX_norm, testY),4)\n",
    "\n",
    "end_timesvc=time.time()\n",
    "\n",
    "\n",
    "\n",
    "\n",
    "\n"
   ]
  },
  {
   "cell_type": "code",
   "execution_count": 31,
   "metadata": {},
   "outputs": [
    {
     "name": "stdout",
     "output_type": "stream",
     "text": [
      "Training accuracy:  0.9935\n",
      "Testing accuracy:  0.9557\n",
      "Time elapsed with SVC: 49.67 s\n"
     ]
    }
   ],
   "source": [
    "# Print training and test accuracy and plot confusion matrix\n",
    "print('Training accuracy: ', training_svc)\n",
    "print('Testing accuracy: ',test_svc)\n",
    "time_elapsed_svc= end_timesvc-start_timesvc\n",
    "\n",
    "print('Time elapsed with SVC: {:.2f} s'.format(time_elapsed_svc))"
   ]
  },
  {
   "cell_type": "code",
   "execution_count": 70,
   "metadata": {
    "scrolled": true
   },
   "outputs": [
    {
     "data": {
      "text/plain": [
       "<sklearn.metrics._plot.confusion_matrix.ConfusionMatrixDisplay at 0x2e96097b670>"
      ]
     },
     "execution_count": 70,
     "metadata": {},
     "output_type": "execute_result"
    },
    {
     "data": {
      "image/png": "[encoded data removed]",
      "text/plain": [
       "<Figure size 432x288 with 2 Axes>"
      ]
     },
     "metadata": {
      "needs_background": "light"
     },
     "output_type": "display_data"
    }
   ],
   "source": [
    "plot_confusion_matrix(svm2,testX[::2],testY[::2])"
   ]
  },
  {
   "cell_type": "markdown",
   "metadata": {},
   "source": [
    "#### Run CV on both NN and SVM"
   ]
  },
  {
   "cell_type": "code",
   "execution_count": null,
   "metadata": {},
   "outputs": [],
   "source": [
    "# Run\n",
    "alphas = np.logspace(-3, -0, 100)\n",
    "learning_rates = np.logspace(-4, -2, 100)\n",
    "parameters = {'learning_rate_init':learning_rates, 'alpha':alphas}\n",
    "\n",
    "nn = MLPClassifier(hidden_layer_sizes=(64),\n",
    "                    activation='relu',\n",
    "                    solver='sgd',\n",
    "                    max_iter=1000,\n",
    "                    n_iter_no_change=25,\n",
    "                    random_state=1)\n",
    "\n",
    "clf = RandomizedSearchCV(nn, parameters, scoring='accuracy', n_iter=10, cv=3, verbose=2)\n",
    "\n",
    "clf.fit(train_x, train_y.flatten())\n",
    "clf.best_params_\n"
   ]
  }
 ],
 "metadata": {
  "kernelspec": {
   "display_name": "Python 3",
   "language": "python",
   "name": "python3"
  },
  "language_info": {
   "codemirror_mode": {
    "name": "ipython",
    "version": 3
   },
   "file_extension": ".py",
   "mimetype": "text/x-python",
   "name": "python",
   "nbconvert_exporter": "python",
   "pygments_lexer": "ipython3",
   "version": "3.8.3"
  }
 },
 "nbformat": 4,
 "nbformat_minor": 4
}
